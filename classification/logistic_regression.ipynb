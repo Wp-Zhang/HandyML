{
 "cells": [
  {
   "cell_type": "markdown",
   "metadata": {},
   "source": [
    "# Logistic Regression"
   ]
  },
  {
   "cell_type": "code",
   "execution_count": 1,
   "metadata": {},
   "outputs": [],
   "source": [
    "from numpy.typing import NDArray\n",
    "import numpy as np"
   ]
  },
  {
   "cell_type": "code",
   "execution_count": 2,
   "metadata": {},
   "outputs": [],
   "source": [
    "from sklearn.datasets import load_breast_cancer\n",
    "from sklearn.preprocessing import MinMaxScaler\n",
    "from sklearn.metrics import roc_auc_score as auc"
   ]
  },
  {
   "cell_type": "code",
   "execution_count": 3,
   "metadata": {},
   "outputs": [],
   "source": [
    "class LogisticRegression:\n",
    "    def __init__(self):\n",
    "        self.w = None\n",
    "        self.b = None\n",
    "\n",
    "    def _sigmoid(self, x):\n",
    "        val = 1 / (1 + np.exp(-x))\n",
    "        return np.clip(val, 1e-6, 1e6)\n",
    "\n",
    "    def fit(\n",
    "        self, x: NDArray, y: NDArray, lr=0.001, num_round=10, l1=0.0, l2=0.0\n",
    "    ) -> None:\n",
    "        \"\"\"Fit a logistic regression model\n",
    "\n",
    "        Parameters\n",
    "        ----------\n",
    "        x : NDArray\n",
    "            training data\n",
    "        y : NDArray\n",
    "            training label\n",
    "        lr : float, optional\n",
    "            learning rate, by default 0.01\n",
    "        num_round : int, optional\n",
    "            number of rounds of training\n",
    "        l1 : float, optional\n",
    "            l1 regularization weight, by default 0.0\n",
    "        l2 : float, optional\n",
    "            l2 regularization weight, by default 0.0\n",
    "        \"\"\"\n",
    "        w = np.random.rand(x.shape[1] + 1, 1)\n",
    "        x = np.concatenate([x, np.ones((x.shape[0], 1))], axis=1)\n",
    "        \n",
    "        tmp = self._sigmoid(x @ w) # * (n, 1)\n",
    "        gradient = - np.sum(x * (y - tmp), axis=0).reshape(-1,1)\n",
    "\n",
    "        for i in range(num_round):\n",
    "            w = w - lr * (gradient + l2 * w + l1 * np.sign(w))\n",
    "\n",
    "        self.w = w[:-1, :]\n",
    "        self.b = w[-1:, :]\n",
    "\n",
    "    def predict(self, x: NDArray) -> NDArray:\n",
    "        \"\"\"Use logistic regression to predict\n",
    "\n",
    "        Parameters\n",
    "        ----------\n",
    "        x : NDArray\n",
    "            testing data\n",
    "\n",
    "        Returns\n",
    "        -------\n",
    "        NDArray\n",
    "            predicted p(y=1)\n",
    "        \"\"\"\n",
    "        return self._sigmoid(x @ self.w + self.b)"
   ]
  },
  {
   "cell_type": "code",
   "execution_count": 4,
   "metadata": {},
   "outputs": [],
   "source": [
    "x, y = load_breast_cancer(return_X_y=True)"
   ]
  },
  {
   "cell_type": "code",
   "execution_count": 5,
   "metadata": {},
   "outputs": [],
   "source": [
    "scaler = MinMaxScaler()\n",
    "\n",
    "x_train = scaler.fit_transform(x[:-25, :])\n",
    "y_train = y[:-25].reshape(-1,1)\n",
    "\n",
    "x_test = scaler.transform(x[-25:, :])\n",
    "y_test = y[-25:].reshape(-1,1)"
   ]
  },
  {
   "cell_type": "code",
   "execution_count": 9,
   "metadata": {},
   "outputs": [],
   "source": [
    "lr = LogisticRegression()\n",
    "lr.fit(x_train, y_train, l1=0, l2=0.1)"
   ]
  },
  {
   "cell_type": "code",
   "execution_count": 10,
   "metadata": {},
   "outputs": [
    {
     "data": {
      "text/plain": [
       "0.9790888722927558"
      ]
     },
     "execution_count": 10,
     "metadata": {},
     "output_type": "execute_result"
    }
   ],
   "source": [
    "auc(y_train, lr.predict(x_train))"
   ]
  },
  {
   "cell_type": "code",
   "execution_count": 11,
   "metadata": {},
   "outputs": [
    {
     "data": {
      "text/plain": [
       "1.0"
      ]
     },
     "execution_count": 11,
     "metadata": {},
     "output_type": "execute_result"
    }
   ],
   "source": [
    "y_pred = lr.predict(x_test)\n",
    "auc(y_test, y_pred)"
   ]
  }
 ],
 "metadata": {
  "kernelspec": {
   "display_name": "Python 3.9.12 ('base')",
   "language": "python",
   "name": "python3"
  },
  "language_info": {
   "codemirror_mode": {
    "name": "ipython",
    "version": 3
   },
   "file_extension": ".py",
   "mimetype": "text/x-python",
   "name": "python",
   "nbconvert_exporter": "python",
   "pygments_lexer": "ipython3",
   "version": "3.9.12"
  },
  "orig_nbformat": 4,
  "vscode": {
   "interpreter": {
    "hash": "896c4df13426a22839b93cb64fa1aa822b93dbe8d611bea7d378f148273c1926"
   }
  }
 },
 "nbformat": 4,
 "nbformat_minor": 2
}
