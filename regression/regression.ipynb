{
 "cells": [
  {
   "cell_type": "code",
   "execution_count": 1,
   "metadata": {},
   "outputs": [],
   "source": [
    "import numpy as np\n",
    "from numpy.typing import NDArray\n",
    "from typing import Tuple"
   ]
  },
  {
   "cell_type": "code",
   "execution_count": 2,
   "metadata": {},
   "outputs": [],
   "source": [
    "a = np.array([[1,2,3],[3,4,5],[7,9,10]])"
   ]
  },
  {
   "cell_type": "code",
   "execution_count": 7,
   "metadata": {},
   "outputs": [],
   "source": [
    "class LinearRegression:\n",
    "    def __init__(self):\n",
    "        self.w = None\n",
    "        self.b = None\n",
    "\n",
    "    def _closed_form(self, x: NDArray, y: NDArray) -> NDArray:\n",
    "        \"\"\"Fit linear regression model with closed form\n",
    "\n",
    "        Parameters\n",
    "        ----------\n",
    "        x : NDArray\n",
    "            training data\n",
    "        y : NDArray\n",
    "\n",
    "\n",
    "        Returns\n",
    "        -------\n",
    "        NDArray\n",
    "            (w,b)\n",
    "        \"\"\"\n",
    "        w = np.linalg.inv(x.T @ x) @ x.T @ y\n",
    "        return w\n",
    "\n",
    "    def _gradient_descent(\n",
    "        self, x: NDArray, y: NDArray, lr: float, num_round: int\n",
    "    ) -> NDArray:\n",
    "        \"\"\"Use gradient descent to solve w and b\n",
    "\n",
    "        Parameters\n",
    "        ----------\n",
    "        x : NDArray\n",
    "            training data\n",
    "        y : NDArray\n",
    "            training label\n",
    "        lr : float\n",
    "            learning rate\n",
    "        num_round : int\n",
    "            number of rounds\n",
    "\n",
    "        Returns\n",
    "        -------\n",
    "        NDArray\n",
    "            w\n",
    "        \"\"\"\n",
    "        w = np.random.rand(x.shape[1], 1)\n",
    "\n",
    "        for i in range(num_round):\n",
    "            gradient = x.T @ (x @ w - y)\n",
    "            w = w - lr * gradient\n",
    "\n",
    "        return w\n",
    "\n",
    "    def fit(self, x: NDArray, y: NDArray, closed_form=False, lr=0.001, num_round=100):\n",
    "        \"\"\"Fit linear regression model\n",
    "\n",
    "        Parameters\n",
    "        ----------\n",
    "        x : NDArray\n",
    "            training data\n",
    "        y : NDArray\n",
    "            training label\n",
    "        closed_form : bool, optional\n",
    "            use closed form to solve weights, by default False\n",
    "        lr : float, optional\n",
    "            learning rate for gradient descent, by default 0.001\n",
    "        num_round : int, optional\n",
    "            number of rounds for gradient descent, by default 100\n",
    "        \"\"\"\n",
    "        # * expand x to (n,d+1)\n",
    "        x = np.concatenate([x, np.ones((x.shape[0], 1))], axis=1)\n",
    "\n",
    "        # * fit model by closed form\n",
    "        if closed_form:\n",
    "            w = self._closed_form(x, y)\n",
    "        else:\n",
    "            w = self._gradient_descent(x, y, lr, num_round)\n",
    "\n",
    "        self.b = w[-1, :].reshape(-1, 1)\n",
    "        self.w = w[:-1, :]\n",
    "        \n",
    "    def predict(self, x: NDArray) -> NDArray:\n",
    "        \"\"\"Predict test data\n",
    "\n",
    "        Parameters\n",
    "        ----------\n",
    "        x : NDArray\n",
    "            test data\n",
    "\n",
    "        Returns\n",
    "        -------\n",
    "        NDArray\n",
    "            predicting result\n",
    "        \"\"\"\n",
    "        return x @ self.w + self.b"
   ]
  },
  {
   "cell_type": "code",
   "execution_count": 8,
   "metadata": {},
   "outputs": [],
   "source": [
    "x_train = np.random.rand(300,20)\n",
    "y_train = np.random.rand(300,1)"
   ]
  },
  {
   "cell_type": "code",
   "execution_count": 9,
   "metadata": {},
   "outputs": [],
   "source": [
    "model = LinearRegression()\n",
    "model.fit(x_train, y_train)"
   ]
  },
  {
   "cell_type": "code",
   "execution_count": 10,
   "metadata": {},
   "outputs": [],
   "source": [
    "y_pred = model.predict(np.random.rand(10,20))"
   ]
  }
 ],
 "metadata": {
  "kernelspec": {
   "display_name": "Python 3.9.12 ('base')",
   "language": "python",
   "name": "python3"
  },
  "language_info": {
   "codemirror_mode": {
    "name": "ipython",
    "version": 3
   },
   "file_extension": ".py",
   "mimetype": "text/x-python",
   "name": "python",
   "nbconvert_exporter": "python",
   "pygments_lexer": "ipython3",
   "version": "3.9.12"
  },
  "orig_nbformat": 4,
  "vscode": {
   "interpreter": {
    "hash": "896c4df13426a22839b93cb64fa1aa822b93dbe8d611bea7d378f148273c1926"
   }
  }
 },
 "nbformat": 4,
 "nbformat_minor": 2
}
